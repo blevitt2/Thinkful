{
 "cells": [
  {
   "cell_type": "code",
   "execution_count": 1,
   "metadata": {},
   "outputs": [],
   "source": [
    "import numpy as np\n",
    "import pandas as pd\n",
    "import matplotlib.pyplot as plt\n",
    "import scipy\n",
    "from scipy.stats import ttest_ind\n",
    "% matplotlib inline "
   ]
  },
  {
   "cell_type": "code",
   "execution_count": 2,
   "metadata": {},
   "outputs": [],
   "source": [
    "pop1 = np.random.binomial(10,0.2,1000)\n",
    "pop2 = np.random.binomial(10,0.5,1000)"
   ]
  },
  {
   "cell_type": "code",
   "execution_count": 3,
   "metadata": {},
   "outputs": [
    {
     "name": "stdout",
     "output_type": "stream",
     "text": [
      "1.972\n",
      "5.009\n",
      "1.2996984265590228\n",
      "1.5668181132473549\n"
     ]
    }
   ],
   "source": [
    "print(pop1.mean())\n",
    "print(pop2.mean())\n",
    "print(pop1.std())\n",
    "print(pop2.std())"
   ]
  },
  {
   "cell_type": "code",
   "execution_count": 4,
   "metadata": {},
   "outputs": [],
   "source": [
    "sample1 = np.random.choice(pop1,100, replace=True)\n",
    "sample2 = np.random.choice(pop2,100, replace=True)"
   ]
  },
  {
   "cell_type": "code",
   "execution_count": 5,
   "metadata": {},
   "outputs": [
    {
     "name": "stdout",
     "output_type": "stream",
     "text": [
      "1.96\n",
      "1.2642784503423288\n"
     ]
    }
   ],
   "source": [
    "print(sample1.mean())\n",
    "print(sample1.std())"
   ]
  },
  {
   "cell_type": "markdown",
   "metadata": {},
   "source": [
    "**#1a.** 'Increase size of samples from 100 to 1000\n",
    "<br />\n",
    "\n",
    "Expect: As sample size increases, the sample mean will approach the population mean (2 and 5, respectively). In addition, the standard deviation will more closely approximate the population standard deviation, which in this case means that it is likely to increase.\n",
    "<br />\n",
    "\n",
    "Result: The sample mean with the larger sample size does more closely approximate the population mean. The standard deviation of the new sample also increased, and is now above the population std dev.  \n",
    "<br />\n",
    "\n",
    "**Question: why does a break form in the histogram plots?**"
   ]
  },
  {
   "cell_type": "code",
   "execution_count": 6,
   "metadata": {},
   "outputs": [
    {
     "data": {
      "image/png": "[encoded data removed]",
      "text/plain": [
       "<Figure size 432x288 with 1 Axes>"
      ]
     },
     "metadata": {
      "needs_background": "light"
     },
     "output_type": "display_data"
    },
    {
     "name": "stdout",
     "output_type": "stream",
     "text": [
      "1.96\n",
      "2.014\n",
      "1.2642784503423288\n",
      "1.3527024802224619\n"
     ]
    }
   ],
   "source": [
    "sample1a = np.random.choice(pop1,1000, replace=True)\n",
    "\n",
    "plt.hist(sample1, bins=7, alpha = 0.5, label = 'sample1')\n",
    "plt.hist(sample1a, bins=7, alpha = 0.5, label = 'sample1a')\n",
    "plt.legend(loc='upper right') \n",
    "plt.show()\n",
    "\n",
    "print(sample1.mean())\n",
    "print(sample1a.mean())\n",
    "print(sample1.std())\n",
    "print(sample1a.std())"
   ]
  },
  {
   "cell_type": "markdown",
   "metadata": {},
   "source": [
    "**#1b.** 'Decrease the size of samples from 100 to 20\n",
    "<br />\n",
    "\n",
    "Expect: The deviation between the population and sample mean will likely be higher with a lower sample size. Same for the standard deviation.\n",
    "<br />\n",
    "\n",
    "Result: No change "
   ]
  },
  {
   "cell_type": "code",
   "execution_count": 7,
   "metadata": {},
   "outputs": [
    {
     "data": {
      "image/png": "[encoded data removed]",
      "text/plain": [
       "<Figure size 432x288 with 1 Axes>"
      ]
     },
     "metadata": {
      "needs_background": "light"
     },
     "output_type": "display_data"
    },
    {
     "name": "stdout",
     "output_type": "stream",
     "text": [
      "1.96\n",
      "2.0\n",
      "1.2642784503423288\n",
      "1.140175425099138\n"
     ]
    }
   ],
   "source": [
    "sample1b = np.random.choice(pop1,20, replace=True)\n",
    "\n",
    "plt.hist(sample1, bins=6, alpha = 0.5, label = 'sample1')\n",
    "plt.hist(sample1b, bins=6, alpha = 0.5, label = 'sample1b')\n",
    "plt.legend(loc='upper right') \n",
    "plt.show()\n",
    "\n",
    "print(sample1.mean())\n",
    "print(sample1b.mean())\n",
    "print(sample1.std())\n",
    "print(sample1b.std())"
   ]
  },
  {
   "cell_type": "markdown",
   "metadata": {},
   "source": [
    "**#2.** 'What happens to t-test when p goes from 0.3 to 0.4 for pop1?' \n",
    "<br />\n",
    "\n",
    "Expect: T-value to fall and the p-value to increase because, all else equal, the distributions are closer together and overlap more.\n",
    "<br />"
   ]
  },
  {
   "cell_type": "code",
   "execution_count": 9,
   "metadata": {},
   "outputs": [
    {
     "name": "stdout",
     "output_type": "stream",
     "text": [
      "8.189764547653835\n",
      "Ttest_indResult(statistic=-14.548263135915036, pvalue=7.593590668411577e-33)\n",
      "Ttest_indResult(statistic=-8.148712837776745, pvalue=4.1533979419383225e-14)\n"
     ]
    }
   ],
   "source": [
    "#New sample from population 1\n",
    "pop3 = np.random.binomial(10,0.3,1000)\n",
    "sample3 = np.random.choice(pop3, 100, replace=True)\n",
    "\n",
    "#inputs for t-test\n",
    "y_bar = sample2.mean() - sample3.mean()\n",
    "size = np.array([len(sample3), len(sample2)])\n",
    "sd = np.array([sample3.std(), sample2.std()])\n",
    "se = (sum(sd**2 / size)) ** 0.5\n",
    "\n",
    "#t test\n",
    "t_val = y_bar / se\n",
    "print (t_val)\n",
    "\n",
    "print(ttest_ind(sample1, sample2, equal_var=False))\n",
    "print(ttest_ind(sample3, sample2, equal_var=False))"
   ]
  },
  {
   "cell_type": "code",
   "execution_count": 24,
   "metadata": {},
   "outputs": [
    {
     "name": "stdout",
     "output_type": "stream",
     "text": [
      "2.9750056875053343\n",
      "0.9702466596783899\n"
     ]
    }
   ],
   "source": [
    "pop4 = np.random.gamma(10,0.3,1000)\n",
    "print(pop4.mean())\n",
    "print (pop4.std())"
   ]
  },
  {
   "cell_type": "code",
   "execution_count": 26,
   "metadata": {},
   "outputs": [
    {
     "name": "stdout",
     "output_type": "stream",
     "text": [
      "2.9426888734373153\n",
      "1.0050734429206214\n"
     ]
    }
   ],
   "source": [
    "sample4 = np.random.choice(pop4, 100)\n",
    "print (sample4.mean())\n",
    "print (sample4.std())"
   ]
  },
  {
   "cell_type": "code",
   "execution_count": 27,
   "metadata": {},
   "outputs": [
    {
     "data": {
      "image/png": "[encoded data removed]",
      "text/plain": [
       "<Figure size 432x288 with 1 Axes>"
      ]
     },
     "metadata": {
      "needs_background": "light"
     },
     "output_type": "display_data"
    }
   ],
   "source": [
    "plt.hist(pop4, bins=6, alpha = 0.5, label = 'pop4')\n",
    "plt.hist(sample4, bins=6, alpha = 0.5, label = 'sample4')\n",
    "plt.legend(loc='upper right') \n",
    "plt.show()"
   ]
  },
  {
   "cell_type": "code",
   "execution_count": null,
   "metadata": {},
   "outputs": [],
   "source": []
  }
 ],
 "metadata": {
  "kernelspec": {
   "display_name": "Python 3",
   "language": "python",
   "name": "python3"
  },
  "language_info": {
   "codemirror_mode": {
    "name": "ipython",
    "version": 3
   },
   "file_extension": ".py",
   "mimetype": "text/x-python",
   "name": "python",
   "nbconvert_exporter": "python",
   "pygments_lexer": "ipython3",
   "version": "3.7.0"
  }
 },
 "nbformat": 4,
 "nbformat_minor": 2
}
