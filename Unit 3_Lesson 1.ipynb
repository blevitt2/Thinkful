{
 "cells": [
  {
   "cell_type": "code",
   "execution_count": 7,
   "metadata": {},
   "outputs": [
    {
     "name": "stdout",
     "output_type": "stream",
     "text": [
      "9.857142857142858\n",
      "10.0\n",
      "8     2\n",
      "6     1\n",
      "14    1\n",
      "12    1\n",
      "11    1\n",
      "10    1\n",
      "Name: Age, dtype: int64\n",
      "7.476190476190476\n",
      "2.734262327610589\n",
      "1.0334540197243192\n"
     ]
    }
   ],
   "source": [
    "import pandas as pd\n",
    "import numpy as np\n",
    "\n",
    "df = pd.DataFrame()\n",
    "df['Names'] = ['Greg', 'Marcia', 'Peter', 'Jan', 'Bobby', 'Cindy', 'Cousin_Oliver']\n",
    "df['Age'] = [14, 12, 11, 10, 8, 6, 8]\n",
    "\n",
    "mean = np.mean(df['Age'])\n",
    "median = np.median(df['Age'])\n",
    "mode = df.Age.value_counts()\n",
    "stdev = np.std(df['Age'], ddof = 1)\n",
    "stderr = stdev / (np.sqrt(len(df['Age'])))\n",
    "variance = stdev **2\n",
    "\n",
    "print(mean)\n",
    "print(median)\n",
    "print(mode)\n",
    "print(variance)\n",
    "print(stdev)\n",
    "print(stderr)"
   ]
  },
  {
   "cell_type": "markdown",
   "metadata": {},
   "source": [
    "**#1.** <br />\n",
    "Mean: 9.857<br />\n",
    "Median: 10<br />\n",
    "Mode: 8<br />\n",
    "Variance:7.476<br />\n",
    "Standard deviation: 2.734<br /> \n",
    "Standard error: 1.033<br />"
   ]
  },
  {
   "cell_type": "markdown",
   "metadata": {},
   "source": [
    "**#2.** <br />\n",
    "The mean is an appropriate central tendency statistic for this sample. For one, there are no outliers that would have an outsize impact on the mean estimate. There are very few data points, so the mode is not a good indication of central tendency. Also, the distribution is  skewed, so the median is not necessarily better than the mean. I would use standard deviation as it is informative about the spread around the mean."
   ]
  },
  {
   "cell_type": "code",
   "execution_count": 36,
   "metadata": {},
   "outputs": [
    {
     "name": "stdout",
     "output_type": "stream",
     "text": [
      "10.0\n",
      "10.0\n",
      "8     2\n",
      "7     1\n",
      "14    1\n",
      "12    1\n",
      "11    1\n",
      "10    1\n",
      "Name: Age, dtype: int64\n",
      "6.333333333333333\n",
      "2.516611478423583\n",
      "0.9511897312113418\n"
     ]
    }
   ],
   "source": [
    "df2 = pd.DataFrame()\n",
    "df2['Names'] = ['Greg', 'Marcia', 'Peter', 'Jan', 'Bobby', 'Cindy', 'Cousin_Oliver']\n",
    "df2['Age'] = [14, 12, 11, 10, 8, 7, 8]\n",
    "\n",
    "mean = np.mean(df2['Age'])\n",
    "median = np.median(df2['Age'])\n",
    "mode = df2.Age.value_counts()\n",
    "stdev = np.std(df2['Age'], ddof = 1)\n",
    "stderr = stdev / (np.sqrt(len(df2['Age'])))\n",
    "variance = stdev **2\n",
    "\n",
    "print(mean)\n",
    "print(median)\n",
    "print(mode)\n",
    "print(variance)\n",
    "print(stdev)\n",
    "print(stderr)"
   ]
  },
  {
   "cell_type": "markdown",
   "metadata": {},
   "source": [
    "**#3.**<br />\n",
    "Since Cindy was the youngest, increasing her age by 1 year moved her closer to the average of the bunch. This reduced the overall differences in ages of everyone and therefore reduced all measures of variance. In addition, the mean increased as the age of one person increased. The median and mode did not change. "
   ]
  },
  {
   "cell_type": "code",
   "execution_count": 4,
   "metadata": {},
   "outputs": [
    {
     "data": {
      "text/html": [
       "<div>\n",
       "<style scoped>\n",
       "    .dataframe tbody tr th:only-of-type {\n",
       "        vertical-align: middle;\n",
       "    }\n",
       "\n",
       "    .dataframe tbody tr th {\n",
       "        vertical-align: top;\n",
       "    }\n",
       "\n",
       "    .dataframe thead th {\n",
       "        text-align: right;\n",
       "    }\n",
       "</style>\n",
       "<table border=\"1\" class=\"dataframe\">\n",
       "  <thead>\n",
       "    <tr style=\"text-align: right;\">\n",
       "      <th></th>\n",
       "      <th>Names</th>\n",
       "      <th>Age</th>\n",
       "    </tr>\n",
       "  </thead>\n",
       "  <tbody>\n",
       "    <tr>\n",
       "      <th>0</th>\n",
       "      <td>Greg</td>\n",
       "      <td>14</td>\n",
       "    </tr>\n",
       "    <tr>\n",
       "      <th>1</th>\n",
       "      <td>Marcia</td>\n",
       "      <td>12</td>\n",
       "    </tr>\n",
       "    <tr>\n",
       "      <th>2</th>\n",
       "      <td>Peter</td>\n",
       "      <td>11</td>\n",
       "    </tr>\n",
       "    <tr>\n",
       "      <th>3</th>\n",
       "      <td>Jan</td>\n",
       "      <td>10</td>\n",
       "    </tr>\n",
       "    <tr>\n",
       "      <th>4</th>\n",
       "      <td>Bobby</td>\n",
       "      <td>8</td>\n",
       "    </tr>\n",
       "    <tr>\n",
       "      <th>5</th>\n",
       "      <td>Cindy</td>\n",
       "      <td>7</td>\n",
       "    </tr>\n",
       "    <tr>\n",
       "      <th>6</th>\n",
       "      <td>Jessica</td>\n",
       "      <td>1</td>\n",
       "    </tr>\n",
       "  </tbody>\n",
       "</table>\n",
       "</div>"
      ],
      "text/plain": [
       "     Names  Age\n",
       "0     Greg   14\n",
       "1   Marcia   12\n",
       "2    Peter   11\n",
       "3      Jan   10\n",
       "4    Bobby    8\n",
       "5    Cindy    7\n",
       "6  Jessica    1"
      ]
     },
     "execution_count": 4,
     "metadata": {},
     "output_type": "execute_result"
    }
   ],
   "source": [
    "df['Names'] = ['Greg', 'Marcia', 'Peter', 'Jan', 'Bobby', 'Cindy', 'Jessica']\n",
    "df['Age'] = [14, 12, 11, 10, 8, 7, 1]\n",
    "df"
   ]
  },
  {
   "cell_type": "code",
   "execution_count": 5,
   "metadata": {},
   "outputs": [
    {
     "name": "stdout",
     "output_type": "stream",
     "text": [
      "9.0\n",
      "10.0\n",
      "14    1\n",
      "12    1\n",
      "11    1\n",
      "10    1\n",
      "8     1\n",
      "7     1\n",
      "1     1\n",
      "Name: Age, dtype: int64\n",
      "17.999999999999996\n",
      "4.242640687119285\n",
      "1.6035674514745462\n"
     ]
    }
   ],
   "source": [
    "mean = np.mean(df['Age'])\n",
    "median = np.median(df['Age'])\n",
    "mode = df.Age.value_counts()\n",
    "stdev = np.std(df['Age'], ddof = 1)\n",
    "stderr = stdev / (np.sqrt(len(df['Age'])))\n",
    "variance = stdev **2\n",
    "\n",
    "print(mean)\n",
    "print(median)\n",
    "print(mode)\n",
    "print(variance)\n",
    "print(stdev)\n",
    "print(stderr)"
   ]
  },
  {
   "cell_type": "markdown",
   "metadata": {},
   "source": [
    "**#4**<br />\n",
    "Swapping Cousin Olver (age 8) with Jessica (age 1) reduced the mean and increased the estimates of variance. This is because Cousin Oliver's age was much closer to the others than Jessica's."
   ]
  },
  {
   "cell_type": "markdown",
   "metadata": {},
   "source": [
    "**#5** <br />To answer this question you need to know more about the readership of each of the magazines: Does readership overlap across magazines? Do the four magazines together represent all Americans? What share of total American readership does each magazine serve? Without these answers, it is not possible to come up with a reliable answer.  "
   ]
  }
 ],
 "metadata": {
  "kernelspec": {
   "display_name": "Python 3",
   "language": "python",
   "name": "python3"
  },
  "language_info": {
   "codemirror_mode": {
    "name": "ipython",
    "version": 3
   },
   "file_extension": ".py",
   "mimetype": "text/x-python",
   "name": "python",
   "nbconvert_exporter": "python",
   "pygments_lexer": "ipython3",
   "version": "3.7.0"
  }
 },
 "nbformat": 4,
 "nbformat_minor": 2
}
